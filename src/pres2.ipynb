{
 "cells": [
  {
   "cell_type": "code",
   "execution_count": 2,
   "metadata": {},
   "outputs": [
    {
     "name": "stdout",
     "output_type": "stream",
     "text": [
      "The autoreload extension is already loaded. To reload it, use:\n",
      "  %reload_ext autoreload\n"
     ]
    }
   ],
   "source": [
    "%load_ext autoreload\n",
    "%autoreload 2"
   ]
  },
  {
   "cell_type": "code",
   "execution_count": 3,
   "metadata": {},
   "outputs": [],
   "source": [
    "import BingChatAccess\n",
    "import ChatGPTAccess\n",
    "import json\n",
    "import os\n",
    "from pptx import Presentation"
   ]
  },
  {
   "cell_type": "code",
   "execution_count": 4,
   "metadata": {},
   "outputs": [],
   "source": [
    "chatGPT = ChatGPTAccess.ChatGPTAccess()"
   ]
  },
  {
   "cell_type": "code",
   "execution_count": 47,
   "metadata": {},
   "outputs": [],
   "source": [
    "bingChat = BingChatAccess.BingChatAccess()"
   ]
  },
  {
   "cell_type": "code",
   "execution_count": 55,
   "metadata": {},
   "outputs": [],
   "source": [
    "options = {\"len\" : 30, \"adj\" : \"historical\", \"top\" : \"Seven Years' War\", \"foc\" : \"Describe all the theatres of war. Don't describe events separately, but focus on overall progress of the war. Create separate slides for Paris and Hubertsburg peace\", \"folder\" : \"E:/honzi/OneDrive/IVP/prezentace\", \"lang\" : \"CZECH\", \"pointsMin\" : 4, \"pointsMax\" : 6, \"outlines\" : 4, \"subtitle\" : \"Jan Slíva\", \"saveName\" : \"Seven Years' War IV\"}"
   ]
  },
  {
   "cell_type": "code",
   "execution_count": 56,
   "metadata": {},
   "outputs": [],
   "source": [
    "with open('prompts.json') as f:\n",
    "    prompts = json.load(f)"
   ]
  },
  {
   "cell_type": "code",
   "execution_count": 57,
   "metadata": {},
   "outputs": [
    {
     "name": "stdout",
     "output_type": "stream",
     "text": [
      "Create outline for exhaustive historical presentation about Seven Years' War. Describe all the theatres of war. Don't describe events separately, but focus on overall progress of the war. Create separate slides for Paris and Hubertsburg peace For each slide write only brief desriptive name. There hast to be at least 30 slides. Format the list as json. The structure of the json has to be\n",
      "\n",
      "{\n",
      "\"slides\":[\n",
      "<name of slide 1>,\n",
      "<name of slide 2>,\n",
      "<name of slide 3>,\n",
      "<name of slide 4>,\n",
      "...\n",
      "<name of slide N>\n",
      "]\n",
      "}\n",
      "\n"
     ]
    }
   ],
   "source": [
    "first = prompts[\"outline\"].format(**options)\n",
    "print(first)"
   ]
  },
  {
   "cell_type": "code",
   "execution_count": 58,
   "metadata": {},
   "outputs": [
    {
     "name": "stdout",
     "output_type": "stream",
     "text": [
      "gpt-3.5-turbo tokens: 130, maximum 4096 - 500\n",
      "ChatGPT: Using: gpt-3.5-turbo\n",
      "ChatGPT: Sending prompt\n",
      "gpt-3.5-turbo tokens: 130, maximum 4096 - 500\n",
      "ChatGPT: Using: gpt-3.5-turbo\n",
      "ChatGPT: Sending prompt\n",
      "gpt-3.5-turbo tokens: 130, maximum 4096 - 500\n",
      "ChatGPT: Using: gpt-3.5-turbo\n",
      "ChatGPT: Sending prompt\n",
      "gpt-3.5-turbo tokens: 130, maximum 4096 - 500\n",
      "ChatGPT: Using: gpt-3.5-turbo\n",
      "ChatGPT: Sending prompt\n"
     ]
    }
   ],
   "source": [
    "answers = []\n",
    "outlines = []\n",
    "for i in range(options[\"outlines\"]):\n",
    "    answers.append(chatGPT.answerPropt(first, 500, newConv=True))"
   ]
  },
  {
   "cell_type": "code",
   "execution_count": 59,
   "metadata": {},
   "outputs": [
    {
     "name": "stdout",
     "output_type": "stream",
     "text": [
      "Option 0:\n",
      "    - Introduction\n",
      "    - Causes of the Seven Years' War\n",
      "    - The European Theatre of War\n",
      "    - The American Theatre of War\n",
      "    - The Asian Theatre of War\n",
      "    - The African Theatre of War\n",
      "    - Overview of the War in 1756\n",
      "    - Overview of the War in 1757\n",
      "    - Overview of the War in 1758\n",
      "    - Overview of the War in 1759\n",
      "    - Overview of the War in 1760\n",
      "    - Overview of the War in 1761\n",
      "    - Overview of the War in 1762\n",
      "    - Overview of the War in 1763\n",
      "    - Treaty of Paris (1763)\n",
      "    - Treaty of Hubertsburg (1763)\n",
      "    - Effects of the Seven Years' War\n",
      "    - Key Figures of the War\n",
      "    - Prussia's Role in the War\n",
      "    - Austria's Role in the War\n",
      "    - France's Role in the War\n",
      "    - Britain's Role in the War\n",
      "    - Russia's Role in the War\n",
      "    - Spain's Role in the War\n",
      "    - Sweden's Role in the War\n",
      "    - The War in Central Europe\n",
      "    - The War in Western Europe\n",
      "    - The War in Eastern Europe\n",
      "    - The War in North America\n",
      "    - The War in India\n",
      "    - The War in Africa\n",
      "\n",
      "Option 1:\n",
      "    - Introduction\n",
      "    - Causes of the Seven Years' War\n",
      "    - Overview of the Theatres of War\n",
      "    - European Theatre: First Phase\n",
      "    - European Theatre: Second Phase\n",
      "    - European Theatre: Third Phase\n",
      "    - European Theatre: Fourth Phase\n",
      "    - European Theatre: Fifth Phase\n",
      "    - European Theatre: Sixth Phase\n",
      "    - European Theatre: Seventh Phase\n",
      "    - European Theatre: Eighth Phase\n",
      "    - North American Theatre: French and Indian War\n",
      "    - North American Theatre: British Advancements\n",
      "    - North American Theatre: Treaty of Paris 1763\n",
      "    - Indian Subcontinent Theatre: Carnatic Wars\n",
      "    - Indian Subcontinent Theatre: Bengal Campaign\n",
      "    - Indian Subcontinent Theatre: Treaty of Paris 1763\n",
      "    - Caribbean Theatre: Capture of Guadeloupe\n",
      "    - Caribbean Theatre: British Naval Victories\n",
      "    - Caribbean Theatre: Treaty of Paris 1763\n",
      "    - African Theatre: Capture of Senegal\n",
      "    - African Theatre: Capture of Goree\n",
      "    - African Theatre: Treaty of Paris 1763\n",
      "    - Central European Theatre: Prussian Campaigns\n",
      "    - Central European Theatre: Battle of Prague\n",
      "    - Central European Theatre: Battle of Rossbach\n",
      "    - Central European Theatre: Battle of Leuthen\n",
      "    - Central European Theatre: Treaty of Hubertsburg\n",
      "    - Eastern European Theatre: Russo-Austrian Campaign\n",
      "    - Eastern European Theatre: Battle of Kunersdorf\n",
      "    - Eastern European Theatre: Treaty of Hubertsburg\n",
      "    - Conclusion\n",
      "\n",
      "Option 2:\n",
      "    - The Origins of the Seven Years' War\n",
      "    - The European Powers\n",
      "    - The Theatres of War\n",
      "    - The European Colonies\n",
      "    - The War in Europe\n",
      "    - The War in North America\n",
      "    - The War in the Caribbean\n",
      "    - The War in India\n",
      "    - The War in West Africa\n",
      "    - The War in the Mediterranean\n",
      "    - The War in South America\n",
      "    - The War in the East Indies\n",
      "    - The Diplomatic Struggles\n",
      "    - The Treaty of Westminster\n",
      "    - The Treaty of Paris\n",
      "    - The Treaty of Hubertsburg\n",
      "    - The Battle of Lobositz\n",
      "    - The Battle of Prague\n",
      "    - The Battle of Kolin\n",
      "    - The Battle of Hastenbeck\n",
      "    - The Battle of Rossbach\n",
      "    - The Battle of Leuthen\n",
      "    - The Battle of Torgau\n",
      "    - The Battle of Quiberon Bay\n",
      "    - The Battle of Plassey\n",
      "    - The Battle of Wandiwash\n",
      "    - The Battle of Lagos\n",
      "    - The Battle of Manila\n",
      "    - The Battle of Sainte-Foy\n",
      "\n",
      "Option 3:\n",
      "    - Introduction\n",
      "    - Causes of the Seven Years' War\n",
      "    - Theatres of War: Europe\n",
      "    - Theatres of War: North America\n",
      "    - Theatres of War: India\n",
      "    - Theatres of War: West Africa\n",
      "    - Theatres of War: Caribbean\n",
      "    - Theatres of War: Philippines\n",
      "    - Initial Conflicts\n",
      "    - Prussian Invasion of Saxony\n",
      "    - Austrian Invasion of Silesia\n",
      "    - French Invasion of Hanover\n",
      "    - British Capture of Louisbourg\n",
      "    - Battle of Fort William Henry\n",
      "    - Prussian Victory at Rossbach\n",
      "    - British Capture of Quebec\n",
      "    - British Capture of Guadeloupe\n",
      "    - British Capture of the Philippines\n",
      "    - Prussian Victory at Leuthen\n",
      "    - British Capture of Havana\n",
      "    - British Capture of Martinique\n",
      "    - British Capture of Pondicherry\n",
      "    - Russian Invasion of East Prussia\n",
      "    - Prussian Victory at Zorndorf\n",
      "    - British Capture of Belle Île\n",
      "    - Prussian Victory at Hochkirch\n",
      "    - British Capture of Manila\n",
      "    - Prussian Victory at Kunersdorf\n",
      "    - British Capture of Havana\n",
      "    - Prussian Victory at Liegnitz\n",
      "    - Paris Peace Treaty\n",
      "    - Hubertsburg Peace Treaty\n",
      "\n"
     ]
    }
   ],
   "source": [
    "for i in range(len(answers)):\n",
    "    topics  = json.loads(answers[i])\n",
    "    topics = topics[list(topics.keys())[0]]\n",
    "\n",
    "    outline = []\n",
    "    for top in topics:\n",
    "        outline.append(\"    - \" + top)\n",
    "    outline = \"\\n\".join(outline)\n",
    "    \n",
    "    print(\"Option \" + str(i) + \":\")\n",
    "    print(outline, end=\"\\n\\n\")"
   ]
  },
  {
   "cell_type": "code",
   "execution_count": 61,
   "metadata": {},
   "outputs": [
    {
     "name": "stdout",
     "output_type": "stream",
     "text": [
      "    - Introduction: The Seven Years’ War as a global conflict\n",
      "    - Europe: The Diplomatic Revolution and the alliance system\n",
      "    - Europe: The Prussian struggle against Austria, France, Russia and Sweden\n",
      "    - Europe: The British support for Prussia and the naval warfare\n",
      "    - Europe: The stalemate and the peace negotiations\n",
      "    - North America: The French and Indian War and its causes\n",
      "    - North America: The British conquest of New France\n",
      "    - North America: The Native American resistance and the Pontiac’s War\n",
      "    - North America: The Proclamation of 1763 and its consequences\n",
      "    - Asia-Pacific: The Carnatic Wars and the Anglo-French rivalry in India\n",
      "    - Asia-Pacific: The British victory at Plassey and the consolidation of the East India Company\n",
      "    - Asia-Pacific: The Anglo-Spanish War and the British capture of Manila and Havana\n",
      "    - Asia-Pacific: The Treaty of Paris (1763) and its impact on the colonial balance of power\n",
      "    - Africa: The slave trade and the European competition for African markets\n",
      "    - Africa: The Anglo-French conflicts in Senegal and on the Gold Coast\n",
      "    - Africa: The Treaty of Paris (1763) and its impact on the African trade routes\n",
      "    - South America: The Spanish-Portuguese rivalry and the Treaty of Madrid (1750)\n",
      "    - South America: The Guaraní War and the Jesuit expulsion\n",
      "    - South America: The Treaty of Paris (1763) and its impact on the South American borders\n",
      "    - The costs of war: The human, economic, social and political toll of the conflict\n",
      "    - The legacy of war: The changes in the European balance of power and diplomacy\n",
      "    - The legacy of war: The rise of Prussia as a major power and the decline of France\n",
      "    - The legacy of war: The seeds of discontent in the British colonies and the American Revolution\n",
      "    - The legacy of war: The expansion of the British Empire and its challenges\n",
      "    - The legacy of war: The Enlightenment and its influence on the political thought and culture\n",
      "    - Conclusion: The Seven Years’ War as a turning point in world history\n",
      "    - Appendix 1: Chronology of major events in the Seven Years’ War\n",
      "    - Appendix 2: Maps of the theatres of war in Europe, North America, Asia-Pacific, Africa and South America\n",
      "    - Appendix 3: Biographies of key figures in the Seven Years’ War\n",
      "    - Appendix 4: Bibliography and sources for further reading\n"
     ]
    }
   ],
   "source": [
    "## index = int(input(\"What outline to use?\"))\n",
    "\n",
    "\n",
    "topics  = json.loads(\"\"\"{ \"slides\":[ \"Introduction: The Seven Years’ War as a global conflict\", \"Europe: The Diplomatic Revolution and the alliance system\", \"Europe: The Prussian struggle against Austria, France, Russia and Sweden\", \"Europe: The British support for Prussia and the naval warfare\", \"Europe: The stalemate and the peace negotiations\", \"North America: The French and Indian War and its causes\", \"North America: The British conquest of New France\", \"North America: The Native American resistance and the Pontiac’s War\", \"North America: The Proclamation of 1763 and its consequences\", \"Asia-Pacific: The Carnatic Wars and the Anglo-French rivalry in India\", \"Asia-Pacific: The British victory at Plassey and the consolidation of the East India Company\", \"Asia-Pacific: The Anglo-Spanish War and the British capture of Manila and Havana\", \"Asia-Pacific: The Treaty of Paris (1763) and its impact on the colonial balance of power\", \"Africa: The slave trade and the European competition for African markets\", \"Africa: The Anglo-French conflicts in Senegal and on the Gold Coast\", \"Africa: The Treaty of Paris (1763) and its impact on the African trade routes\", \"South America: The Spanish-Portuguese rivalry and the Treaty of Madrid (1750)\", \"South America: The Guaraní War and the Jesuit expulsion\", \"South America: The Treaty of Paris (1763) and its impact on the South American borders\", \"The costs of war: The human, economic, social and political toll of the conflict\", \"The legacy of war: The changes in the European balance of power and diplomacy\", \"The legacy of war: The rise of Prussia as a major power and the decline of France\", \"The legacy of war: The seeds of discontent in the British colonies and the American Revolution\", \"The legacy of war: The expansion of the British Empire and its challenges\", \"The legacy of war: The Enlightenment and its influence on the political thought and culture\", \"Conclusion: The Seven Years’ War as a turning point in world history\", \"Appendix 1: Chronology of major events in the Seven Years’ War\", \"Appendix 2: Maps of the theatres of war in Europe, North America, Asia-Pacific, Africa and South America\", \"Appendix 3: Biographies of key figures in the Seven Years’ War\", \"Appendix 4: Bibliography and sources for further reading\" ] }\"\"\")\n",
    "topics = topics[list(topics.keys())[0]]\n",
    "\n",
    "outline = []\n",
    "for top in topics:\n",
    "    outline.append(\"    - \" + top)\n",
    "outline = \"\\n\".join(outline)\n",
    "\n",
    "print(outline)"
   ]
  },
  {
   "cell_type": "code",
   "execution_count": 62,
   "metadata": {},
   "outputs": [
    {
     "name": "stdout",
     "output_type": "stream",
     "text": [
      "gpt-4 tokens: 763, maximum 4096 - 1000\n",
      "BingChat: Using: gpt-4\n",
      "BingChat: Sending prompt\n",
      "local variable 'message' referenced before assignment\n",
      "BingChat: The try wasn't succesful, trying again\n",
      "BingChat: Sending prompt\n",
      "## Introduction: The Seven Years’ War as a global conflict\n",
      "- The Seven Years' War (1756-1763) was the last major war before the French Revolution that involved most of the European great powers[^2^] [^3^] [^4^]\n",
      "- The war had multiple theatres of operation: Europe, North America, Asia-Pacific, Africa and South America[^2^] [^4^]\n",
      "    - In Europe, the main conflict was between Prussia and Austria over the control of Silesia[^2^] [^3^]\n",
      "    - In North America, the British and the French fought for colonial supremacy in the French and Indian War[^2^] [^3^] [^4^]\n",
      "    - In Asia-Pacific, the British and the French competed for trade and influence in India, the Philippines and other regions[^2^] [^3^]\n",
      "    - In Africa, the British and the French clashed over slave trade and markets in Senegal and the Gold Coast[^2^] [^3^]\n",
      "    - In South America, the Spanish and the Portuguese disputed over their colonial borders[^2^] [^3^]\n",
      "- The war was also influenced by the diplomatic revolution of 1756, when France and Austria formed an alliance against their traditional rivals, Britain and Prussia[^2^] [^3^]\n",
      "- The war ended with the Treaty of Paris (1763), which reshaped the colonial balance of power and had significant consequences for the future of Europe and its empires[^2^] [^3^] [^4^]\n",
      "- The war was a turning point in world history, as it marked the rise of Prussia as a major power, the decline of France, the expansion of the British Empire, and the seeds of discontent in the American colonies[^2^] [^3^] [^4^]\n",
      "\n",
      "[^2^]: https://en.wikipedia.org/wiki/Seven_Years%27_War\n",
      "[^3^]: https://www.britannica.com/event/Seven-Years-War\n",
      "[^4^]: https://www.history.com/topics/france/seven-years-war.\n"
     ]
    }
   ],
   "source": [
    "with open('prompts.json') as f:\n",
    "    prompts = json.load(f)\n",
    "\n",
    "prompt = prompts[\"first_slide\"].format(outline=outline, topOfSlide=topics[0], **options)\n",
    "\n",
    "slides = []\n",
    "slides.append(await bingChat.answerPropt(prompt, 1000, newConv=True))\n",
    "print(slides[0][\"text\"])"
   ]
  },
  {
   "cell_type": "code",
   "execution_count": 63,
   "metadata": {},
   "outputs": [
    {
     "ename": "IndexError",
     "evalue": "list index out of range",
     "output_type": "error",
     "traceback": [
      "\u001b[1;31m---------------------------------------------------------------------------\u001b[0m",
      "\u001b[1;31mIndexError\u001b[0m                                Traceback (most recent call last)",
      "Cell \u001b[1;32mIn[63], line 4\u001b[0m\n\u001b[0;32m      2\u001b[0m gen \u001b[39m=\u001b[39m [slides[\u001b[39m0\u001b[39m][\u001b[39m\"\u001b[39m\u001b[39mtext\u001b[39m\u001b[39m\"\u001b[39m]]\n\u001b[0;32m      3\u001b[0m \u001b[39mfor\u001b[39;00m j \u001b[39min\u001b[39;00m \u001b[39mrange\u001b[39m(\u001b[39mmax\u001b[39m(\u001b[39m1\u001b[39m, i\u001b[39m-\u001b[39m\u001b[39m3\u001b[39m), i\u001b[39m-\u001b[39m\u001b[39m1\u001b[39m):\n\u001b[1;32m----> 4\u001b[0m     gen\u001b[39m.\u001b[39mappend(slides[j][\u001b[39m\"\u001b[39m\u001b[39mtext\u001b[39m\u001b[39m\"\u001b[39m])\n\u001b[0;32m      5\u001b[0m gen \u001b[39m=\u001b[39m \u001b[39m\"\u001b[39m\u001b[39m\\n\u001b[39;00m\u001b[39m\\n\u001b[39;00m\u001b[39m\"\u001b[39m\u001b[39m.\u001b[39mjoin(gen)\n\u001b[0;32m      6\u001b[0m prompt \u001b[39m=\u001b[39m prompts[\u001b[39m\"\u001b[39m\u001b[39mother_slide\u001b[39m\u001b[39m\"\u001b[39m]\u001b[39m.\u001b[39mformat(outline\u001b[39m=\u001b[39moutline, topOfSlide\u001b[39m=\u001b[39mtopics[i], createdSlides\u001b[39m=\u001b[39mgen, \u001b[39m*\u001b[39m\u001b[39m*\u001b[39moptions)\n",
      "\u001b[1;31mIndexError\u001b[0m: list index out of range"
     ]
    }
   ],
   "source": [
    "for i in range(1, len(topics)):\n",
    "    gen = [slides[0][\"text\"]]\n",
    "    for j in range(max(1, i-3), i-1):\n",
    "        gen.append(slides[j][\"text\"])\n",
    "    gen = \"\\n\\n\".join(gen)\n",
    "    prompt = prompts[\"other_slide\"].format(outline=outline, topOfSlide=topics[i], createdSlides=gen, **options)\n",
    "    slides.append(await bingChat.answerPropt(prompt, 1000, newConv=True))\n",
    "    print(slides[i][\"text\"])\n"
   ]
  },
  {
   "cell_type": "code",
   "execution_count": null,
   "metadata": {},
   "outputs": [],
   "source": [
    "import deepl\n",
    "\n",
    "with open(\".DeepLtoken\") as f:\n",
    "    auth_key = f.read()\n",
    "translator = deepl.Translator(auth_key)"
   ]
  },
  {
   "cell_type": "code",
   "execution_count": null,
   "metadata": {},
   "outputs": [],
   "source": [
    "import re\n",
    "\n",
    "def formatSlide(text):\n",
    "    lines = text.splitlines()\n",
    "    ret = []\n",
    "    if lines[0][0] != \"#\":\n",
    "        del lines[0]\n",
    "    for line in lines:\n",
    "        if (line != \"\") and (line[0] != \"[\"):\n",
    "            line = re.sub(\"\\*\\*\", \"\", line)\n",
    "            line = re.sub(\" ?\\[.*?\\] ?\", \"\", line)\n",
    "            ret.append(line)\n",
    "    ret = \"\\n\".join(ret)\n",
    "    return ret\n",
    "\n",
    "def transate(text, lang=\"CS\"):\n",
    "    if text == \"\":\n",
    "        return \"\"\n",
    "    return translator.translate_text(text, target_lang=lang).text"
   ]
  },
  {
   "cell_type": "code",
   "execution_count": null,
   "metadata": {},
   "outputs": [],
   "source": [
    "\n",
    "nameOfPres = transate(options[\"saveName\"])"
   ]
  },
  {
   "cell_type": "code",
   "execution_count": null,
   "metadata": {},
   "outputs": [],
   "source": [
    "pres_list = list(map(lambda x: transate(formatSlide(x[\"text\"])), slides))\n",
    "pres = \"\\n\\n\".join(pres_list)\n",
    "\n",
    "with open(os.path.join(options[\"folder\"], nameOfPres + \".md\"), \"w\", encoding=\"UTF-8\") as f:\n",
    "    f.write(pres)"
   ]
  },
  {
   "cell_type": "code",
   "execution_count": null,
   "metadata": {},
   "outputs": [],
   "source": [
    "from pptx.enum.lang import MSO_LANGUAGE_ID\n",
    "from pptx.util import Pt\n",
    "\n",
    "def addSlide(power, text, language, font_size=20):\n",
    "    lines = text.splitlines()\n",
    "    if len(lines) == 0:\n",
    "        return\n",
    "\n",
    "    lang_id = getattr(MSO_LANGUAGE_ID, language)\n",
    "\n",
    "    lay = power.slide_layouts[1]\n",
    "    slide = power.slides.add_slide(lay)\n",
    "\n",
    "    slide.shapes.title.text = re.sub(\"^## +\", \"\", lines[0])\n",
    "    slide.shapes.title.text_frame.paragraphs[0].font.language_id = lang_id\n",
    "\n",
    "    text_frame = slide.shapes.placeholders[1].text_frame\n",
    "\n",
    "    first = True\n",
    "    for line in lines[1:]:\n",
    "        if first:\n",
    "            p = text_frame.paragraphs[0]\n",
    "            first = False\n",
    "        else:\n",
    "            p = text_frame.add_paragraph()\n",
    "        p.text = re.sub(\"^ *- +\", \"\", line)\n",
    "        p.font.language_id = lang_id\n",
    "        p.font.size = Pt(font_size)\n",
    "        if line[0] == \"-\":\n",
    "            p.level = 0\n",
    "        else:\n",
    "            p.level = 1\n",
    "\n",
    "    \n",
    "\n",
    "power = Presentation(\"template.pptx\")\n",
    "power.core_properties.language = options[\"lang\"]\n",
    "\n",
    "lay = power.slide_layouts[0]\n",
    "first = power.slides.add_slide(lay)\n",
    "first.shapes.title.text = transate(options[\"top\"])\n",
    "first.placeholders[1].text= options[\"subtitle\"]\n",
    "\n",
    "for slide in pres_list:\n",
    "    addSlide(power, slide, options[\"lang\"])\n",
    "power.save(os.path.join(options[\"folder\"], nameOfPres + \".pptx\"))"
   ]
  },
  {
   "cell_type": "code",
   "execution_count": null,
   "metadata": {},
   "outputs": [],
   "source": [
    "with open(os.path.join(options[\"folder\"], nameOfPres + \" sources.txt\"), \"w\", encoding=\"UTF-8\") as f:\n",
    "    for i in range(len(slides)):\n",
    "        if pres_list[i].rstrip() == \"\":\n",
    "            continue\n",
    "        f.write(pres_list[i].splitlines()[0] + \"\\n\")\n",
    "        for source in slides[i][\"sources\"]:\n",
    "            f.write(source + \"\\n\")\n",
    "        f.write(\"\\n\")"
   ]
  }
 ],
 "metadata": {
  "kernelspec": {
   "display_name": "venv",
   "language": "python",
   "name": "python3"
  },
  "language_info": {
   "codemirror_mode": {
    "name": "ipython",
    "version": 3
   },
   "file_extension": ".py",
   "mimetype": "text/x-python",
   "name": "python",
   "nbconvert_exporter": "python",
   "pygments_lexer": "ipython3",
   "version": "3.9.7"
  },
  "orig_nbformat": 4
 },
 "nbformat": 4,
 "nbformat_minor": 2
}
