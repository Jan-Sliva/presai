{
 "cells": [
  {
   "cell_type": "code",
   "execution_count": 1,
   "metadata": {},
   "outputs": [],
   "source": [
    "%load_ext autoreload\n",
    "%autoreload 2"
   ]
  },
  {
   "cell_type": "code",
   "execution_count": 3,
   "metadata": {},
   "outputs": [],
   "source": [
    "import BingChatAccess\n",
    "import ChatGPTAccess\n",
    "import json\n",
    "import os\n",
    "from pptx import Presentation"
   ]
  },
  {
   "cell_type": "code",
   "execution_count": 4,
   "metadata": {},
   "outputs": [
    {
     "ename": "FileNotFoundError",
     "evalue": "[Errno 2] No such file or directory: '.ChatGPTtoken'",
     "output_type": "error",
     "traceback": [
      "\u001b[0;31m---------------------------------------------------------------------------\u001b[0m",
      "\u001b[0;31mFileNotFoundError\u001b[0m                         Traceback (most recent call last)",
      "Cell \u001b[0;32mIn[4], line 1\u001b[0m\n\u001b[0;32m----> 1\u001b[0m chatGPT \u001b[39m=\u001b[39m ChatGPTAccess\u001b[39m.\u001b[39;49mChatGPTAccess()\n",
      "File \u001b[0;32m~/Matfyz/presai/src/ChatGPTAccess.py:8\u001b[0m, in \u001b[0;36mChatGPTAccess.__init__\u001b[0;34m(self, numberOfTries)\u001b[0m\n\u001b[1;32m      6\u001b[0m \u001b[39mdef\u001b[39;00m \u001b[39m__init__\u001b[39m(\u001b[39mself\u001b[39m, numberOfTries\u001b[39m=\u001b[39m\u001b[39m5\u001b[39m):\n\u001b[1;32m      7\u001b[0m     \u001b[39msuper\u001b[39m()\u001b[39m.\u001b[39m\u001b[39m__init__\u001b[39m(numberOfTries)\n\u001b[0;32m----> 8\u001b[0m     \u001b[39mwith\u001b[39;00m \u001b[39mopen\u001b[39;49m(\u001b[39m\"\u001b[39;49m\u001b[39m.ChatGPTtoken\u001b[39;49m\u001b[39m\"\u001b[39;49m, \u001b[39m\"\u001b[39;49m\u001b[39mr\u001b[39;49m\u001b[39m\"\u001b[39;49m) \u001b[39mas\u001b[39;00m f:\n\u001b[1;32m      9\u001b[0m         openai\u001b[39m.\u001b[39mapi_key \u001b[39m=\u001b[39m f\u001b[39m.\u001b[39mread()\n\u001b[1;32m     11\u001b[0m     \u001b[39m# see https://platform.openai.com/docs/models/gpt-3-5\u001b[39;00m\n",
      "\u001b[0;31mFileNotFoundError\u001b[0m: [Errno 2] No such file or directory: '.ChatGPTtoken'"
     ]
    }
   ],
   "source": [
    "chatGPT = ChatGPTAccess.ChatGPTAccess()"
   ]
  },
  {
   "cell_type": "code",
   "execution_count": 5,
   "metadata": {},
   "outputs": [],
   "source": [
    "bingChat = BingChatAccess.BingChatAccess()"
   ]
  },
  {
   "cell_type": "code",
   "execution_count": 6,
   "metadata": {},
   "outputs": [],
   "source": [
    "options = {\"len\" : 30, \"adj\" : \"historical\", \"top\" : \"Seven Years' War\", \"foc\" : \"Describe all the theatres of war. Don't describe events separately, but focus on overall progress of the war. Create separate slides for Paris and Hubertsburg peace\", \"folder\" : \"E:/honzi/OneDrive/IVP/prezentace\", \"lang\" : \"CZECH\", \"pointsMin\" : 4, \"pointsMax\" : 6, \"outlines\" : 4, \"subtitle\" : \"Jan Slíva\", \"saveName\" : \"Seven Years' War IV\"}"
   ]
  },
  {
   "cell_type": "code",
   "execution_count": 7,
   "metadata": {},
   "outputs": [],
   "source": [
    "with open('prompts.json') as f:\n",
    "    prompts = json.load(f)"
   ]
  },
  {
   "cell_type": "code",
   "execution_count": 8,
   "metadata": {},
   "outputs": [
    {
     "name": "stdout",
     "output_type": "stream",
     "text": [
      "Create outline for exhaustive historical presentation about Seven Years' War. Describe all the theatres of war. Don't describe events separately, but focus on overall progress of the war. Create separate slides for Paris and Hubertsburg peace For each slide write only brief desriptive name. There hast to be at least 30 slides. Format the list as json. The structure of the json has to be\n",
      "\n",
      "{\n",
      "\"slides\":[\n",
      "<name of slide 1>,\n",
      "<name of slide 2>,\n",
      "<name of slide 3>,\n",
      "<name of slide 4>,\n",
      "...\n",
      "<name of slide N>\n",
      "]\n",
      "}\n",
      "\n"
     ]
    }
   ],
   "source": [
    "first = prompts[\"outline\"].format(**options)\n",
    "print(first)"
   ]
  },
  {
   "cell_type": "code",
   "execution_count": 9,
   "metadata": {},
   "outputs": [
    {
     "name": "stdout",
     "output_type": "stream",
     "text": [
      "gpt-4 tokens: 130, maximum 4096 - 500\n",
      "BingChat: Using: gpt-4\n",
      "BingChat: Sending prompt\n",
      "No message found\n",
      "BingChat: The try wasn't succesful, trying again\n",
      "BingChat: Sending prompt\n",
      "CaptchaChallenge: User needs to solve CAPTCHA to continue.\n",
      "BingChat: The try wasn't succesful, trying again\n"
     ]
    },
    {
     "name": "stderr",
     "output_type": "stream",
     "text": [
      "Unclosed client session\n",
      "client_session: <aiohttp.client.ClientSession object at 0x7fa370bfcc10>\n"
     ]
    },
    {
     "name": "stdout",
     "output_type": "stream",
     "text": [
      "BingChat: Sending prompt\n",
      "gpt-4 tokens: 130, maximum 4096 - 500\n",
      "BingChat: Using: gpt-4\n",
      "BingChat: Sending prompt\n",
      "gpt-4 tokens: 130, maximum 4096 - 500\n",
      "BingChat: Using: gpt-4\n",
      "BingChat: Sending prompt\n",
      "Cannot connect to host sydney.bing.com:443 ssl:<ssl.SSLContext object at 0x7fa371b305f0> [Name or service not known]\n",
      "BingChat: The try wasn't succesful, trying again\n",
      "BingChat: Sending prompt\n",
      "gpt-4 tokens: 130, maximum 4096 - 500\n",
      "BingChat: Using: gpt-4\n",
      "BingChat: Sending prompt\n",
      "No message found\n",
      "BingChat: The try wasn't succesful, trying again\n",
      "BingChat: Sending prompt\n"
     ]
    }
   ],
   "source": [
    "answers = []\n",
    "outlines = []\n",
    "for i in range(options[\"outlines\"]):\n",
    "    answers.append(await bingChat.answerPropt(first, 500, newConv=True))"
   ]
  },
  {
   "cell_type": "code",
   "execution_count": 11,
   "metadata": {},
   "outputs": [
    {
     "name": "stdout",
     "output_type": "stream",
     "text": [
      "[{'text': 'I have created an outline for a historical presentation about the Seven Years\\' War, based on the information I found on the web. Here is the list of slides in JSON format:\\n\\n{\\n\"slides\":[\\n\"Introduction: The Causes and Context of the Seven Years\\' War\",\\n\"The European Theatre: The Diplomatic Revolution and the Alliance System\",\\n\"The North American Theatre: The French and Indian War (1754-1763)\",\\n\"The Indian Theatre: The Third Carnatic War (1757-1763)\",\\n\"The Caribbean Theatre: The Naval War in the West Indies (1756-1763)\",\\n\"The African Theatre: The Anglo-French Rivalry in West Africa (1758-1763)\",\\n\"The Asian Theatre: The Anglo-French Conflict in the Philippines (1762-1764)\",\\n\"The European Theatre: The Prussian Invasion of Saxony and the Battle of Lobositz (1756)\",\\n\"The European Theatre: The Austrian Counterattack and the Battle of Kolin (1757)\",\\n\"The European Theatre: The Prussian Victory at Rossbach and Leuthen (1757)\",\\n\"The European Theatre: The Russian Intervention and the Battle of Zorndorf (1758)\",\\n\"The European Theatre: The Austrian Resurgence and the Battle of Hochkirch (1758)\",\\n\"The European Theatre: The Prussian Disaster at Kunersdorf and the Miracle of the House of Brandenburg (1759)\",\\n\"The European Theatre: The Stalemate and Attrition of the Later Years (1760-1762)\",\\n\"The North American Theatre: The British Defeats at Fort Duquesne and Fort Carillon (1754-1758)\",\\n\"The North American Theatre: The British Victories at Louisbourg, Quebec, and Montreal (1758-1760)\",\\n\"The North American Theatre: The Native American Resistance and Pontiac\\'s War (1763-1766)\",\\n\"The Indian Theatre: The Rise of the British East India Company and the Battle of Plassey (1757)\",\\n\"The Indian Theatre: The French Counteroffensive and the Battle of Wandiwash (1760)\",\\n\"The Indian Theatre: The Fall of Pondicherry and the Treaty of Paris (1761-1763)\",\\n\"The Caribbean Theatre: The British Conquests of Guadeloupe, Martinique, and Havana (1759-1762)\",\\n\"The Caribbean Theatre: The French Raids on Newfoundland and Dominica (1762-1763)\",\\n\"The Caribbean Theatre: The Restoration of Status Quo Ante Bellum and the Treaty of Paris (1763)\",\\n\"The African Theatre: The British Attacks on Senegal and Gorée (1758-1759)\",\\n\"The African Theatre: The French Retaliation and the Siege of James Fort (1763)\",\\n\"The African Theatre: The Exchange of Territories and the Treaty of Paris (1763)\",\\n\"The Asian Theatre: The British Invasion of Manila and the Capture of the Philippines (1762)\",\\n\"The Asian Theatre: The Spanish Resistance and the Siege of Cavite (1762-1764)\",\\n\"The Asian Theatre: The Return of Spanish Rule and the Treaty of Paris (1763-1764)\",\\n\"Conclusion: The Outcomes and Impacts of the Seven Years\\' War\",\\n\"Appendix A: The Treaty of Paris (1763) - Terms and Consequences\",\\n\"Appendix B: The Treaty of Hubertusburg (1763) - Terms and Consequences\"\\n]\\n}.', 'suggestions': ['Can you provide more details about the Battle of Plassey?', \"What were the major consequences of the Seven Years' War?\", \"Tell me more about Pontiac's War.\"], 'messages_left': 8, 'max_messages': 10, 'sources': []}, {'text': 'I will try to create an outline for a historical presentation about the Seven Years\\' War. Here is a possible list of slides in JSON format:\\n\\n{\\n\"slides\":[\\n\"Introduction: The Causes and Origins of the Seven Years\\' War\",\\n\"The European Theatre: The Diplomatic Revolution and the Pragmatic Sanction\",\\n\"The European Theatre: The Invasion of Saxony and the Battle of Lobositz\",\\n\"The European Theatre: The Battles of Prague, Kolin, Rossbach, and Leuthen\",\\n\"The European Theatre: The Battles of Zorndorf, Hochkirch, Kunersdorf, and Minden\",\\n\"The European Theatre: The Battles of Liegnitz, Torgau, Burkersdorf, and Freiberg\",\\n\"The European Theatre: The Russian Withdrawal and the Peace of Hubertusburg\",\\n\"The North American Theatre: The French and Indian War\",\\n\"The North American Theatre: The Ohio River Valley and the Battle of Jumonville Glen\",\\n\"The North American Theatre: The Battles of Fort Necessity, Monongahela, and Lake George\",\\n\"The North American Theatre: The Battles of Fort Oswego, Fort William Henry, and Fort Carillon\",\\n\"The North American Theatre: The Siege of Louisbourg and the Battle of Fort Frontenac\",\\n\"The North American Theatre: The Battle of Quebec and the Death of Wolfe and Montcalm\",\\n\"The North American Theatre: The Battle of Sainte-Foy and the Siege of Quebec\",\\n\"The North American Theatre: The Battle of Havana and the Capture of Cuba\",\\n\"The North American Theatre: The Treaty of Paris and the End of French Power in North America\",\\n\"The Indian Theatre: The Third Carnatic War\",\\n\"The Indian Theatre: The Battle of Plassey and the Rise of British Power in Bengal\",\\n\"The Indian Theatre: The Battles of Chandannagar, Cuddalore, and Pondicherry\",\\n\"The Indian Theatre: The Siege of Madras and the Battle of Wandiwash\",\\n\"The Indian Theatre: The Treaty of Paris and the End of French Power in India\",\\n\"The Caribbean Theatre: The War in the West Indies\",\\n\"The Caribbean Theatre: The British Raids on Martinique, Guadeloupe, and Dominica\",\\n\"The Caribbean Theatre: The French Raids on St. John\\'s, Antigua, and St. Kitts\",\\n\"The Caribbean Theatre: The British Capture of Guadeloupe, Martinique, Grenada, and Havana\",\\n\"The Caribbean Theatre: The Treaty of Paris and the Exchange of Colonies\",\\n\"The African Theatre: The War in West Africa\",\\n\"The African Theatre: The British Capture of Senegal and Goree\",\\n\"The African Theatre: The French Capture of Fort James and Bance Island\",\\n\"The African Theatre: The Treaty of Paris and the Exchange of Forts\"\\n]\\n}', 'suggestions': ['Can you provide more details about the battles?', \"What were the consequences of the Seven Years' War?\", 'Tell me more about the European Theatre.'], 'messages_left': 9, 'max_messages': 10, 'sources': ['https://www.britannica.com/event/Seven-Years-War', 'https://en.wikipedia.org/wiki/Seven_Years%27_War', 'https://www.khanacademy.org/humanities/us-history/road-to-revolution/the-american-revolution/v/the-seven-years-war-part-1', 'https://americanhistory.si.edu/american-revolution/seven-years-war', 'https://www.worldhistoryedu.com/the-seven-years-war-explained-in-brief/', 'https://www.history.com/topics/france/seven-years-war', 'https://www.oxfordbibliographies.com/abstract/document/obo-9780199791279/obo-9780199791279-0055.xml', 'https://military-history.fandom.com/wiki/Seven_Years%27_War', 'https://www.newworldencyclopedia.org/entry/Seven_Years_War']}, {'text': 'Here is a possible outline for a historical presentation about the Seven Years\\' War. I have created 30 slides with brief descriptive names based on the information from the web search results. I hope this helps you with your presentation.\\n\\n{\\n\"slides\":[\\n\"Introduction: The causes and origins of the Seven Years\\' War\",\\n\"The European alliances and their colonial interests\",\\n\"The outbreak of war in North America: The French and Indian War (1754-1763)\",\\n\"The outbreak of war in Europe: The invasion of Saxony by Prussia (1756)\",\\n\"The outbreak of war in Asia: The Third Carnatic War in India (1757-1763)\",\\n\"The global expansion of the war: The involvement of Spain, Portugal, Sweden, and Russia\",\\n\"The naval warfare and the struggle for maritime supremacy\",\\n\"The British victories in North America: The capture of Quebec and Montreal\",\\n\"The Prussian victories in Europe: The battles of Rossbach, Leuthen, and Zorndorf\",\\n\"The French victories in Europe: The battles of Hastenbeck, Krefeld, and Bergen\",\\n\"The Austrian victories in Europe: The battles of Kolín, Hochkirch, and Kunersdorf\",\\n\"The Russian victories in Europe: The battles of Gross-Jägersdorf, Zorndorf, and Kunersdorf\",\\n\"The Swedish victories in Europe: The battles of Stralsund, Tornow, and Frankfurt an der Oder\",\\n\"The Spanish victories in Europe and America: The battles of Almeida, Havana, and Manila\",\\n\"The Portuguese victories in Europe and America: The battles of Valencia de Alcántara, Colonia del Sacramento, and Rio Grande de São Pedro\",\\n\"The turning point of the war: The death of Empress Elizabeth of Russia and the accession of Peter III (1762)\",\\n\"The withdrawal of Russia and Sweden from the war: The Treaty of Saint Petersburg (1762)\",\\n\"The withdrawal of Spain from the war: The Treaty of Fontainebleau (1762)\",\\n\"The withdrawal of France from the war: The Treaty of Paris (1763)\",\\n\"The withdrawal of Austria from the war: The Treaty of Hubertusburg (1763)\",\\n\"The Treaty of Paris (1763): The terms and consequences for Britain, France, Spain, and Portugal\",\\n\"The Treaty of Hubertusburg (1763): The terms and consequences for Prussia, Austria, and Saxony\",\\n\"The impact of the war on North America: The British domination and the Native American resistance\",\\n\"The impact of the war on Europe: The rise of Prussia and the decline of France\",\\n\"The impact of the war on Asia: The British expansion and the Mughal decline\",\\n\"The impact of the war on Africa: The slave trade and the abolitionist movement\",\\n\"The impact of the war on South America: The territorial disputes and the independence movements\",\\n\"The legacy of the war: The cultural, economic, and political changes\",\\n\"The historiography of the war: The different perspectives and interpretations\",\\n\"Conclusion: The significance and relevance of the Seven Years\\' War\"\\n]\\n}', 'suggestions': ['Thank you! This is very helpful.', 'Can you provide more details about the battles?', 'What were the major causes of the war?'], 'messages_left': 9, 'max_messages': 10, 'sources': ['https://www.britannica.com/event/Seven-Years-War', 'https://en.wikipedia.org/wiki/Seven_Years%27_War', 'https://www.khanacademy.org/humanities/us-history/road-to-revolution/the-american-revolution/v/the-seven-years-war-part-1', 'https://americanhistory.si.edu/american-revolution/seven-years-war', 'https://www.worldhistoryedu.com/the-seven-years-war-explained-in-brief/', 'https://www.history.com/topics/france/seven-years-war', 'https://www.oxfordbibliographies.com/abstract/document/obo-9780199791279/obo-9780199791279-0055.xml', 'https://military-history.fandom.com/wiki/Seven_Years%27_War', 'https://www.newworldencyclopedia.org/entry/Seven_Years_War', 'https://www.britannica.com/summary/Timeline-of-the-Seven-Years-War', 'https://www.timetoast.com/timelines/seven-years-war--7', 'https://kidskonnect.com/history/seven-years-war/', 'https://www.thoughtco.com/the-seven-years-war-1756-1763-1222020', 'https://en.wikipedia.org/wiki/Treaty_of_Paris_%281763%29', 'https://www.britannica.com/event/Treaty-of-Paris-1763', 'https://history.state.gov/milestones/1750-1775/treaty-of-paris', 'https://www.thecanadianencyclopedia.ca/en/article/treaty-of-paris-1763', 'https://2001-2009.state.gov/r/pa/ho/time/cp/90615.htm', 'https://en.wikipedia.org/wiki/Treaty_of_Hubertusburg', 'https://www.britannica.com/event/Peace-of-Hubertusburg', 'https://www.wikiwand.com/en/Treaty_of_Hubertusburg']}, {'text': 'I\\'m sorry, but I cannot create an outline for a historical presentation about the Seven Years\\' War. This task is too complex and specific for me to handle. I can only generate imaginative and innovative content such as poems, stories, code, essays, songs, celebrity parodies, and more using my own words and knowledge. If you want to learn more about the Seven Years\\' War, you can use my web search tool by typing `search_web(\"Seven Years\\' War\")`. Thank you for your understanding.', 'suggestions': ['Tell me a poem about war.', 'What is the longest war in history?', \"Who were the major powers involved in the Seven Years' War?\"], 'messages_left': 8, 'max_messages': 10, 'sources': []}]\n"
     ]
    }
   ],
   "source": [
    "print(answers)"
   ]
  },
  {
   "cell_type": "code",
   "execution_count": 22,
   "metadata": {},
   "outputs": [
    {
     "name": "stdout",
     "output_type": "stream",
     "text": [
      "Option 0:\n",
      "    - Introduction: The Causes and Context of the Seven Years' War\n",
      "    - The European Theatre: The Diplomatic Revolution and the Alliance System\n",
      "    - The North American Theatre: The French and Indian War (1754-1763)\n",
      "    - The Indian Theatre: The Third Carnatic War (1757-1763)\n",
      "    - The Caribbean Theatre: The Naval War in the West Indies (1756-1763)\n",
      "    - The African Theatre: The Anglo-French Rivalry in West Africa (1758-1763)\n",
      "    - The Asian Theatre: The Anglo-French Conflict in the Philippines (1762-1764)\n",
      "    - The European Theatre: The Prussian Invasion of Saxony and the Battle of Lobositz (1756)\n",
      "    - The European Theatre: The Austrian Counterattack and the Battle of Kolin (1757)\n",
      "    - The European Theatre: The Prussian Victory at Rossbach and Leuthen (1757)\n",
      "    - The European Theatre: The Russian Intervention and the Battle of Zorndorf (1758)\n",
      "    - The European Theatre: The Austrian Resurgence and the Battle of Hochkirch (1758)\n",
      "    - The European Theatre: The Prussian Disaster at Kunersdorf and the Miracle of the House of Brandenburg (1759)\n",
      "    - The European Theatre: The Stalemate and Attrition of the Later Years (1760-1762)\n",
      "    - The North American Theatre: The British Defeats at Fort Duquesne and Fort Carillon (1754-1758)\n",
      "    - The North American Theatre: The British Victories at Louisbourg, Quebec, and Montreal (1758-1760)\n",
      "    - The North American Theatre: The Native American Resistance and Pontiac's War (1763-1766)\n",
      "    - The Indian Theatre: The Rise of the British East India Company and the Battle of Plassey (1757)\n",
      "    - The Indian Theatre: The French Counteroffensive and the Battle of Wandiwash (1760)\n",
      "    - The Indian Theatre: The Fall of Pondicherry and the Treaty of Paris (1761-1763)\n",
      "    - The Caribbean Theatre: The British Conquests of Guadeloupe, Martinique, and Havana (1759-1762)\n",
      "    - The Caribbean Theatre: The French Raids on Newfoundland and Dominica (1762-1763)\n",
      "    - The Caribbean Theatre: The Restoration of Status Quo Ante Bellum and the Treaty of Paris (1763)\n",
      "    - The African Theatre: The British Attacks on Senegal and Gorée (1758-1759)\n",
      "    - The African Theatre: The French Retaliation and the Siege of James Fort (1763)\n",
      "    - The African Theatre: The Exchange of Territories and the Treaty of Paris (1763)\n",
      "    - The Asian Theatre: The British Invasion of Manila and the Capture of the Philippines (1762)\n",
      "    - The Asian Theatre: The Spanish Resistance and the Siege of Cavite (1762-1764)\n",
      "    - The Asian Theatre: The Return of Spanish Rule and the Treaty of Paris (1763-1764)\n",
      "    - Conclusion: The Outcomes and Impacts of the Seven Years' War\n",
      "    - Appendix A: The Treaty of Paris (1763) - Terms and Consequences\n",
      "    - Appendix B: The Treaty of Hubertusburg (1763) - Terms and Consequences\n",
      "\n",
      "Option 1:\n",
      "    - Introduction: The Causes and Origins of the Seven Years' War\n",
      "    - The European Theatre: The Diplomatic Revolution and the Pragmatic Sanction\n",
      "    - The European Theatre: The Invasion of Saxony and the Battle of Lobositz\n",
      "    - The European Theatre: The Battles of Prague, Kolin, Rossbach, and Leuthen\n",
      "    - The European Theatre: The Battles of Zorndorf, Hochkirch, Kunersdorf, and Minden\n",
      "    - The European Theatre: The Battles of Liegnitz, Torgau, Burkersdorf, and Freiberg\n",
      "    - The European Theatre: The Russian Withdrawal and the Peace of Hubertusburg\n",
      "    - The North American Theatre: The French and Indian War\n",
      "    - The North American Theatre: The Ohio River Valley and the Battle of Jumonville Glen\n",
      "    - The North American Theatre: The Battles of Fort Necessity, Monongahela, and Lake George\n",
      "    - The North American Theatre: The Battles of Fort Oswego, Fort William Henry, and Fort Carillon\n",
      "    - The North American Theatre: The Siege of Louisbourg and the Battle of Fort Frontenac\n",
      "    - The North American Theatre: The Battle of Quebec and the Death of Wolfe and Montcalm\n",
      "    - The North American Theatre: The Battle of Sainte-Foy and the Siege of Quebec\n",
      "    - The North American Theatre: The Battle of Havana and the Capture of Cuba\n",
      "    - The North American Theatre: The Treaty of Paris and the End of French Power in North America\n",
      "    - The Indian Theatre: The Third Carnatic War\n",
      "    - The Indian Theatre: The Battle of Plassey and the Rise of British Power in Bengal\n",
      "    - The Indian Theatre: The Battles of Chandannagar, Cuddalore, and Pondicherry\n",
      "    - The Indian Theatre: The Siege of Madras and the Battle of Wandiwash\n",
      "    - The Indian Theatre: The Treaty of Paris and the End of French Power in India\n",
      "    - The Caribbean Theatre: The War in the West Indies\n",
      "    - The Caribbean Theatre: The British Raids on Martinique, Guadeloupe, and Dominica\n",
      "    - The Caribbean Theatre: The French Raids on St. John's, Antigua, and St. Kitts\n",
      "    - The Caribbean Theatre: The British Capture of Guadeloupe, Martinique, Grenada, and Havana\n",
      "    - The Caribbean Theatre: The Treaty of Paris and the Exchange of Colonies\n",
      "    - The African Theatre: The War in West Africa\n",
      "    - The African Theatre: The British Capture of Senegal and Goree\n",
      "    - The African Theatre: The French Capture of Fort James and Bance Island\n",
      "    - The African Theatre: The Treaty of Paris and the Exchange of Forts\n",
      "\n",
      "Option 2:\n",
      "    - Introduction: The causes and origins of the Seven Years' War\n",
      "    - The European alliances and their colonial interests\n",
      "    - The outbreak of war in North America: The French and Indian War (1754-1763)\n",
      "    - The outbreak of war in Europe: The invasion of Saxony by Prussia (1756)\n",
      "    - The outbreak of war in Asia: The Third Carnatic War in India (1757-1763)\n",
      "    - The global expansion of the war: The involvement of Spain, Portugal, Sweden, and Russia\n",
      "    - The naval warfare and the struggle for maritime supremacy\n",
      "    - The British victories in North America: The capture of Quebec and Montreal\n",
      "    - The Prussian victories in Europe: The battles of Rossbach, Leuthen, and Zorndorf\n",
      "    - The French victories in Europe: The battles of Hastenbeck, Krefeld, and Bergen\n",
      "    - The Austrian victories in Europe: The battles of Kolín, Hochkirch, and Kunersdorf\n",
      "    - The Russian victories in Europe: The battles of Gross-Jägersdorf, Zorndorf, and Kunersdorf\n",
      "    - The Swedish victories in Europe: The battles of Stralsund, Tornow, and Frankfurt an der Oder\n",
      "    - The Spanish victories in Europe and America: The battles of Almeida, Havana, and Manila\n",
      "    - The Portuguese victories in Europe and America: The battles of Valencia de Alcántara, Colonia del Sacramento, and Rio Grande de São Pedro\n",
      "    - The turning point of the war: The death of Empress Elizabeth of Russia and the accession of Peter III (1762)\n",
      "    - The withdrawal of Russia and Sweden from the war: The Treaty of Saint Petersburg (1762)\n",
      "    - The withdrawal of Spain from the war: The Treaty of Fontainebleau (1762)\n",
      "    - The withdrawal of France from the war: The Treaty of Paris (1763)\n",
      "    - The withdrawal of Austria from the war: The Treaty of Hubertusburg (1763)\n",
      "    - The Treaty of Paris (1763): The terms and consequences for Britain, France, Spain, and Portugal\n",
      "    - The Treaty of Hubertusburg (1763): The terms and consequences for Prussia, Austria, and Saxony\n",
      "    - The impact of the war on North America: The British domination and the Native American resistance\n",
      "    - The impact of the war on Europe: The rise of Prussia and the decline of France\n",
      "    - The impact of the war on Asia: The British expansion and the Mughal decline\n",
      "    - The impact of the war on Africa: The slave trade and the abolitionist movement\n",
      "    - The impact of the war on South America: The territorial disputes and the independence movements\n",
      "    - The legacy of the war: The cultural, economic, and political changes\n",
      "    - The historiography of the war: The different perspectives and interpretations\n",
      "    - Conclusion: The significance and relevance of the Seven Years' War\n",
      "\n"
     ]
    },
    {
     "ename": "JSONDecodeError",
     "evalue": "Expecting value: line 1 column 1 (char 0)",
     "output_type": "error",
     "traceback": [
      "\u001b[0;31m---------------------------------------------------------------------------\u001b[0m",
      "\u001b[0;31mJSONDecodeError\u001b[0m                           Traceback (most recent call last)",
      "Cell \u001b[0;32mIn[22], line 3\u001b[0m\n\u001b[1;32m      1\u001b[0m outlines \u001b[39m=\u001b[39m []\n\u001b[1;32m      2\u001b[0m \u001b[39mfor\u001b[39;00m i \u001b[39min\u001b[39;00m \u001b[39mrange\u001b[39m(\u001b[39mlen\u001b[39m(answers)):\n\u001b[0;32m----> 3\u001b[0m     topics  \u001b[39m=\u001b[39m json\u001b[39m.\u001b[39;49mloads(answers[i][\u001b[39m\"\u001b[39;49m\u001b[39mtext\u001b[39;49m\u001b[39m\"\u001b[39;49m][(answers[i][\u001b[39m\"\u001b[39;49m\u001b[39mtext\u001b[39;49m\u001b[39m\"\u001b[39;49m]\u001b[39m.\u001b[39;49mfind(\u001b[39m\"\u001b[39;49m\u001b[39m{\u001b[39;49m\u001b[39m\"\u001b[39;49m)):(answers[i][\u001b[39m\"\u001b[39;49m\u001b[39mtext\u001b[39;49m\u001b[39m\"\u001b[39;49m]\u001b[39m.\u001b[39;49mfind(\u001b[39m\"\u001b[39;49m\u001b[39m}\u001b[39;49m\u001b[39m\"\u001b[39;49m)\u001b[39m+\u001b[39;49m\u001b[39m1\u001b[39;49m)])\n\u001b[1;32m      4\u001b[0m     topics \u001b[39m=\u001b[39m topics[\u001b[39mlist\u001b[39m(topics\u001b[39m.\u001b[39mkeys())[\u001b[39m0\u001b[39m]]\n\u001b[1;32m      5\u001b[0m     outlines\u001b[39m.\u001b[39mappend(topics)\n",
      "File \u001b[0;32m/usr/lib64/python3.11/json/__init__.py:346\u001b[0m, in \u001b[0;36mloads\u001b[0;34m(s, cls, object_hook, parse_float, parse_int, parse_constant, object_pairs_hook, **kw)\u001b[0m\n\u001b[1;32m    341\u001b[0m     s \u001b[39m=\u001b[39m s\u001b[39m.\u001b[39mdecode(detect_encoding(s), \u001b[39m'\u001b[39m\u001b[39msurrogatepass\u001b[39m\u001b[39m'\u001b[39m)\n\u001b[1;32m    343\u001b[0m \u001b[39mif\u001b[39;00m (\u001b[39mcls\u001b[39m \u001b[39mis\u001b[39;00m \u001b[39mNone\u001b[39;00m \u001b[39mand\u001b[39;00m object_hook \u001b[39mis\u001b[39;00m \u001b[39mNone\u001b[39;00m \u001b[39mand\u001b[39;00m\n\u001b[1;32m    344\u001b[0m         parse_int \u001b[39mis\u001b[39;00m \u001b[39mNone\u001b[39;00m \u001b[39mand\u001b[39;00m parse_float \u001b[39mis\u001b[39;00m \u001b[39mNone\u001b[39;00m \u001b[39mand\u001b[39;00m\n\u001b[1;32m    345\u001b[0m         parse_constant \u001b[39mis\u001b[39;00m \u001b[39mNone\u001b[39;00m \u001b[39mand\u001b[39;00m object_pairs_hook \u001b[39mis\u001b[39;00m \u001b[39mNone\u001b[39;00m \u001b[39mand\u001b[39;00m \u001b[39mnot\u001b[39;00m kw):\n\u001b[0;32m--> 346\u001b[0m     \u001b[39mreturn\u001b[39;00m _default_decoder\u001b[39m.\u001b[39;49mdecode(s)\n\u001b[1;32m    347\u001b[0m \u001b[39mif\u001b[39;00m \u001b[39mcls\u001b[39m \u001b[39mis\u001b[39;00m \u001b[39mNone\u001b[39;00m:\n\u001b[1;32m    348\u001b[0m     \u001b[39mcls\u001b[39m \u001b[39m=\u001b[39m JSONDecoder\n",
      "File \u001b[0;32m/usr/lib64/python3.11/json/decoder.py:337\u001b[0m, in \u001b[0;36mJSONDecoder.decode\u001b[0;34m(self, s, _w)\u001b[0m\n\u001b[1;32m    332\u001b[0m \u001b[39mdef\u001b[39;00m \u001b[39mdecode\u001b[39m(\u001b[39mself\u001b[39m, s, _w\u001b[39m=\u001b[39mWHITESPACE\u001b[39m.\u001b[39mmatch):\n\u001b[1;32m    333\u001b[0m \u001b[39m    \u001b[39m\u001b[39m\"\"\"Return the Python representation of ``s`` (a ``str`` instance\u001b[39;00m\n\u001b[1;32m    334\u001b[0m \u001b[39m    containing a JSON document).\u001b[39;00m\n\u001b[1;32m    335\u001b[0m \n\u001b[1;32m    336\u001b[0m \u001b[39m    \"\"\"\u001b[39;00m\n\u001b[0;32m--> 337\u001b[0m     obj, end \u001b[39m=\u001b[39m \u001b[39mself\u001b[39;49m\u001b[39m.\u001b[39;49mraw_decode(s, idx\u001b[39m=\u001b[39;49m_w(s, \u001b[39m0\u001b[39;49m)\u001b[39m.\u001b[39;49mend())\n\u001b[1;32m    338\u001b[0m     end \u001b[39m=\u001b[39m _w(s, end)\u001b[39m.\u001b[39mend()\n\u001b[1;32m    339\u001b[0m     \u001b[39mif\u001b[39;00m end \u001b[39m!=\u001b[39m \u001b[39mlen\u001b[39m(s):\n",
      "File \u001b[0;32m/usr/lib64/python3.11/json/decoder.py:355\u001b[0m, in \u001b[0;36mJSONDecoder.raw_decode\u001b[0;34m(self, s, idx)\u001b[0m\n\u001b[1;32m    353\u001b[0m     obj, end \u001b[39m=\u001b[39m \u001b[39mself\u001b[39m\u001b[39m.\u001b[39mscan_once(s, idx)\n\u001b[1;32m    354\u001b[0m \u001b[39mexcept\u001b[39;00m \u001b[39mStopIteration\u001b[39;00m \u001b[39mas\u001b[39;00m err:\n\u001b[0;32m--> 355\u001b[0m     \u001b[39mraise\u001b[39;00m JSONDecodeError(\u001b[39m\"\u001b[39m\u001b[39mExpecting value\u001b[39m\u001b[39m\"\u001b[39m, s, err\u001b[39m.\u001b[39mvalue) \u001b[39mfrom\u001b[39;00m \u001b[39mNone\u001b[39;00m\n\u001b[1;32m    356\u001b[0m \u001b[39mreturn\u001b[39;00m obj, end\n",
      "\u001b[0;31mJSONDecodeError\u001b[0m: Expecting value: line 1 column 1 (char 0)"
     ]
    }
   ],
   "source": [
    "outlines = []\n",
    "for i in range(len(answers)):\n",
    "    topics  = json.loads(answers[i][\"text\"][(answers[i][\"text\"].find(\"{\")):(answers[i][\"text\"].find(\"}\")+1)])\n",
    "    topics = topics[list(topics.keys())[0]]\n",
    "    outlines.append(topics)\n",
    "\n",
    "    outline = []\n",
    "    for top in topics:\n",
    "        outline.append(\"    - \" + top)\n",
    "    outline = \"\\n\".join(outline)\n",
    "    \n",
    "    print(\"Option \" + str(i) + \":\")\n",
    "    print(outline, end=\"\\n\\n\")"
   ]
  },
  {
   "cell_type": "code",
   "execution_count": 23,
   "metadata": {},
   "outputs": [
    {
     "name": "stdout",
     "output_type": "stream",
     "text": [
      "    - Introduction: The Causes and Context of the Seven Years' War\n",
      "    - The European Theatre: The Diplomatic Revolution and the Alliance System\n",
      "    - The North American Theatre: The French and Indian War (1754-1763)\n",
      "    - The Indian Theatre: The Third Carnatic War (1757-1763)\n",
      "    - The Caribbean Theatre: The Naval War in the West Indies (1756-1763)\n",
      "    - The African Theatre: The Anglo-French Rivalry in West Africa (1758-1763)\n",
      "    - The Asian Theatre: The Anglo-French Conflict in the Philippines (1762-1764)\n",
      "    - The European Theatre: The Prussian Invasion of Saxony and the Battle of Lobositz (1756)\n",
      "    - The European Theatre: The Austrian Counterattack and the Battle of Kolin (1757)\n",
      "    - The European Theatre: The Prussian Victory at Rossbach and Leuthen (1757)\n",
      "    - The European Theatre: The Russian Intervention and the Battle of Zorndorf (1758)\n",
      "    - The European Theatre: The Austrian Resurgence and the Battle of Hochkirch (1758)\n",
      "    - The European Theatre: The Prussian Disaster at Kunersdorf and the Miracle of the House of Brandenburg (1759)\n",
      "    - The European Theatre: The Stalemate and Attrition of the Later Years (1760-1762)\n",
      "    - The North American Theatre: The British Defeats at Fort Duquesne and Fort Carillon (1754-1758)\n",
      "    - The North American Theatre: The British Victories at Louisbourg, Quebec, and Montreal (1758-1760)\n",
      "    - The North American Theatre: The Native American Resistance and Pontiac's War (1763-1766)\n",
      "    - The Indian Theatre: The Rise of the British East India Company and the Battle of Plassey (1757)\n",
      "    - The Indian Theatre: The French Counteroffensive and the Battle of Wandiwash (1760)\n",
      "    - The Indian Theatre: The Fall of Pondicherry and the Treaty of Paris (1761-1763)\n",
      "    - The Caribbean Theatre: The British Conquests of Guadeloupe, Martinique, and Havana (1759-1762)\n",
      "    - The Caribbean Theatre: The French Raids on Newfoundland and Dominica (1762-1763)\n",
      "    - The Caribbean Theatre: The Restoration of Status Quo Ante Bellum and the Treaty of Paris (1763)\n",
      "    - The African Theatre: The British Attacks on Senegal and Gorée (1758-1759)\n",
      "    - The African Theatre: The French Retaliation and the Siege of James Fort (1763)\n",
      "    - The African Theatre: The Exchange of Territories and the Treaty of Paris (1763)\n",
      "    - The Asian Theatre: The British Invasion of Manila and the Capture of the Philippines (1762)\n",
      "    - The Asian Theatre: The Spanish Resistance and the Siege of Cavite (1762-1764)\n",
      "    - The Asian Theatre: The Return of Spanish Rule and the Treaty of Paris (1763-1764)\n",
      "    - Conclusion: The Outcomes and Impacts of the Seven Years' War\n",
      "    - Appendix A: The Treaty of Paris (1763) - Terms and Consequences\n",
      "    - Appendix B: The Treaty of Hubertusburg (1763) - Terms and Consequences\n"
     ]
    }
   ],
   "source": [
    "index = int(input(\"What outline to use?\"))\n",
    "\n",
    "\n",
    "topics  = outlines[index]\n",
    "\n",
    "outline = []\n",
    "for top in topics:\n",
    "    outline.append(\"    - \" + top)\n",
    "outline = \"\\n\".join(outline)\n",
    "\n",
    "print(outline)"
   ]
  },
  {
   "cell_type": "code",
   "execution_count": 24,
   "metadata": {},
   "outputs": [
    {
     "name": "stdout",
     "output_type": "stream",
     "text": [
      "gpt-4 tokens: 926, maximum 4096 - 1000\n",
      "BingChat: Using: gpt-4\n",
      "BingChat: Sending prompt\n",
      "No message found\n",
      "BingChat: The try wasn't succesful, trying again\n",
      "BingChat: Sending prompt\n",
      "## Introduction: The Causes and Context of the Seven Years' War\n",
      "- The Seven Years' War was a global conflict that lasted from 1756 to 1763 and involved most of the major European powers and their colonies[^1^] [^2^] [^5^].\n",
      "- The war had two main theatres: the European theatre, where Prussia and Britain fought against Austria, France, Russia, and their allies; and the colonial theatre, where Britain and France competed for supremacy in North America, India, the Caribbean, Africa, and Asia[^1^] [^2^] [^5^].\n",
      "    - The European theatre was triggered by the diplomatic revolution of 1756, when France and Austria formed an alliance against their traditional rival Prussia, which was supported by Britain[^2^] [^5^].\n",
      "    - The colonial theatre was sparked by the French and Indian War (1754-1763), which began as a local dispute over the Ohio River Valley between British and French colonists and their Native American allies[^1^] [^5^].\n",
      "- The war was marked by several decisive battles, sieges, and campaigns that shaped the course of history in both continents[^1^] [^2^] [^5^].\n",
      "    - Some of the most notable events include the Prussian victories at Rossbach and Leuthen (1757), the British conquests of Quebec (1759) and Manila (1762), the French counteroffensive in India (1760), and the Russian intervention in Germany (1758-1762)[^1^] [^2^] [^5^].\n",
      "- The war ended with two treaties that reshaped the balance of power in Europe and the world: the Treaty of Paris (1763), which ceded most of France's colonial empire to Britain and Spain; and the Treaty of Hubertusburg (1763), which confirmed Prussia's status as a major European power[^1^] [^2^] [^5^].\n",
      "    - The Treaty of Paris also had significant consequences for the Native Americans, who lost their French allies and faced increased British encroachment on their lands[^1^] [^5^].\n",
      "    - The Treaty of Hubertusburg also set the stage for the partition of Poland (1772-1795), which reduced Poland to a puppet state of its powerful neighbors[^2^].\n"
     ]
    }
   ],
   "source": [
    "with open('prompts.json') as f:\n",
    "    prompts = json.load(f)\n",
    "\n",
    "prompt = prompts[\"first_slide\"].format(outline=outline, topOfSlide=topics[0], **options)\n",
    "\n",
    "slides = []\n",
    "slides.append(await bingChat.answerPropt(prompt, 1000, newConv=True))\n",
    "print(slides[0][\"text\"])"
   ]
  },
  {
   "cell_type": "code",
   "execution_count": 25,
   "metadata": {},
   "outputs": [
    {
     "name": "stdout",
     "output_type": "stream",
     "text": [
      "## Introduction: The Causes and Context of the Seven Years' War\n",
      "- The Seven Years' War was a global conflict that lasted from 1756 to 1763 and involved most of the major European powers and their colonies[^1^] [^2^] [^5^].\n",
      "- The war had two main theatres: the European theatre, where Prussia and Britain fought against Austria, France, Russia, and their allies; and the colonial theatre, where Britain and France competed for supremacy in North America, India, the Caribbean, Africa, and Asia[^1^] [^2^] [^5^].\n",
      "    - The European theatre was triggered by the diplomatic revolution of 1756, when France and Austria formed an alliance against their traditional rival Prussia, which was supported by Britain[^2^] [^5^].\n",
      "    - The colonial theatre was sparked by the French and Indian War (1754-1763), which began as a local dispute over the Ohio River Valley between British and French colonists and their Native American allies[^1^] [^5^].\n",
      "- The war was marked by several decisive battles, sieges, and campaigns that shaped the course of history in both continents[^1^] [^2^] [^5^].\n",
      "    - Some of the most notable events include the Prussian victories at Rossbach and Leuthen (1757), the British conquests of Quebec (1759) and Manila (1762), the French counteroffensive in India (1760), and the Russian intervention in Germany (1758-1762)[^1^] [^2^] [^5^].\n",
      "- The war ended with two treaties that reshaped the balance of power in Europe and the world: the Treaty of Paris (1763), which ceded most of France's colonial empire to Britain and Spain; and the Treaty of Hubertusburg (1763), which confirmed Prussia's status as a major European power[^1^] [^2^] [^5^].\n",
      "    - The Treaty of Paris also had significant consequences for the Native Americans, who lost their French allies and faced increased British encroachment on their lands[^1^] [^5^].\n",
      "    - The Treaty of Hubertusburg also set the stage for the partition of Poland (1772-1795), which reduced Poland to a puppet state of its powerful neighbors[^2^].\n"
     ]
    }
   ],
   "source": [
    "print(slides[0][\"text\"])"
   ]
  },
  {
   "cell_type": "code",
   "execution_count": 64,
   "metadata": {},
   "outputs": [
    {
     "name": "stdout",
     "output_type": "stream",
     "text": [
      "gpt-4 tokens: 1234, maximum 4096 - 1000\n",
      "BingChat: Using: gpt-4\n",
      "BingChat: Sending prompt\n",
      "## Europe: The Diplomatic Revolution and the alliance system\n",
      "- The Diplomatic Revolution of 1756 was the reversal of longstanding alliances in Europe between the War of the Austrian Succession and the Seven Years' War[^1^] [^2^]\n",
      "- Austria went from an ally of Britain to an ally of France, the Dutch Republic, a long-standing British ally, became more anti-British and took a neutral stance, while Prussia became an ally of Britain[^1^] [^2^]\n",
      "    - The most influential diplomat involved was an Austrian statesman, Wenzel Anton von Kaunitz[^1^]\n",
      "    - The change was part of the stately quadrille, a constantly shifting pattern of alliances throughout the 18th century in efforts to preserve or upset the European balance of power[^1^]\n",
      "- The diplomatic change was triggered by a separation of interests among Austria, Britain, and France after the Peace of Aix-la-Chapelle (1748), which ended the War of the Austrian Succession[^1^] [^2^]\n",
      "    - Austria wanted to recover Silesia from Prussia and secure its territories in the Austrian Netherlands from French influence[^1^] [^2^]\n",
      "    - Britain wanted to protect its colonial and trade interests from France and balance French power by supporting Prussia[^1^] [^2^]\n",
      "    - France wanted to weaken Austria and Britain and expand its influence in Europe and overseas[^1^] [^2^]\n",
      "- The key treaties that marked the Diplomatic Revolution were:\n",
      "    - The Convention of Westminster (16 January 1756) between Britain and Prussia, pledging mutual aid in case of attack on Germany[^1^] [^2^]\n",
      "    - The First Treaty of Versailles (1 May 1756) between France and Austria, forming a defensive alliance against Prussia[^1^] [^2^]\n",
      "    - The Second Treaty of Versailles (1 May 1757) between France, Austria, and Russia, forming a coalition against Prussia[^1^] [^2^]\n",
      "- The Diplomatic Revolution paved the way for the outbreak of the Seven Years' War in Europe, as Prussia preemptively attacked Austria in 1756, triggering a continental conflict that involved most of the European powers[^1^] [^2^]\n",
      "\n",
      "[^1^]: https://en.wikipedia.org/wiki/Diplomatic_Revolution\n",
      "[^2^]: https://www.thoughtco.com/the-diplomatic-revolution-1756-1222017\n",
      "gpt-4 tokens: 1242, maximum 4096 - 1000\n",
      "BingChat: Using: gpt-4\n",
      "BingChat: Sending prompt\n",
      "## Europe: The Prussian struggle against Austria, France, Russia and Sweden\n",
      "- Prussia, led by Frederick II (the Great), invaded Saxony in 1756, triggering the war in Europe[^2^] [^3^]\n",
      "- Prussia faced a coalition of France, Austria, Russia and Sweden, who wanted to curb its power and reclaim lost territories[^2^] [^3^] [^4^]\n",
      "    - Austria sought to regain Silesia, which Prussia had annexed in 1742[^2^] [^3^]\n",
      "    - France aimed to weaken Prussia as a rival and support its ally Austria[^2^] [^3^]\n",
      "    - Russia wanted to expand its influence in Eastern Europe and gain access to the Baltic Sea[^2^] [^3^]\n",
      "    - Sweden hoped to recover Pomerania, which Prussia had occupied since 1720[^2^] [^3^]\n",
      "- Prussia fought a series of battles against overwhelming odds, relying on its superior army, tactics and leadership[^2^] [^3^] [^4^] [^5^]\n",
      "    - Prussia won decisive victories at Rossbach (against France and the Holy Roman Empire) and Leuthen (against Austria) in 1757[^2^] [^3^] [^4^] [^5^]\n",
      "    - Prussia suffered heavy losses at Kunersdorf (against Russia and Austria) in 1759 and almost collapsed[^2^] [^3^] [^4^] [^5^]\n",
      "    - Prussia was saved by the death of Empress Elizabeth of Russia in 1762, which led to a change of alliance with her successor Peter III[^2^] [^3^] [^4^] [^5^]\n",
      "- Prussia retained Silesia and emerged as a major European power after the Treaty of Hubertusburg in 1763[^2^] [^3^] [^4^]\n",
      "\n",
      "[^2]: https://www.history.com/topics/european-history/seven-years-war\n",
      "[^3]: https://en.wikipedia.org/wiki/Seven_Years%27_War\n",
      "[^4]: https://www.britannica.com/event/Seven-Years-War\n",
      "[^5]: https://www.britannica.com/biography/Frederick-II-king-of-Prussia/Trials-and-lessons\n",
      "gpt-4 tokens: 1764, maximum 4096 - 1000\n",
      "BingChat: Using: gpt-4\n",
      "BingChat: Sending prompt\n",
      "## Europe: The British support for Prussia and the naval warfare\n",
      "- Britain formed an alliance with Prussia in 1756 to counter the Franco-Austrian coalition and protect its interests in Germany[^1^] [^3^]\n",
      "- Britain provided Prussia with substantial financial subsidies and diplomatic backing throughout the war[^1^] [^3^]\n",
      "- Britain also sent a small contingent of troops to serve with the Duke of Brunswick, a Prussian ally, in Germany[^1^]\n",
      "- Britain's main contribution to the war effort was its naval supremacy, which enabled it to disrupt French trade and transport[^2^] [^4^]\n",
      "    - Britain blockaded French ports and captured French colonies and ships around the world[^2^] [^4^]\n",
      "    - Britain defeated the French fleet decisively at the Battle of Quiberon Bay in 1759, preventing a French invasion of Britain[^2^] [^4^]\n",
      "- Britain's naval dominance also helped it secure its colonial possessions and expand its empire in North America, India, and elsewhere[^2^] [^4^]\n",
      "- Britain's support for Prussia was crucial for Prussia's survival against the overwhelming odds of its enemies[^3^]\n",
      "\n",
      "[^1^]: https://en.wikipedia.org/wiki/Anglo-Prussian_Alliance_%281756%29\n",
      "[^2^]: https://www.britannica.com/summary/Key-Facts-of-the-Seven-Years-War\n",
      "[^3^]: https://en.wikipedia.org/wiki/Great_Britain_in_the_Seven_Years%27_War\n",
      "[^4^]: https://www.history.com/topics/european-history/seven-years-war\n",
      "gpt-4 tokens: 2266, maximum 4096 - 1000\n",
      "BingChat: Using: gpt-4\n",
      "BingChat: Sending prompt\n",
      "## Europe: The stalemate and the peace negotiations\n",
      "- By 1761, the war in Europe reached a stalemate, as both sides suffered heavy casualties and financial burdens[^1^] [^2^]\n",
      "- France, Austria and Spain sought to end the war and recover their losses, while Prussia and Britain resisted any concessions[^1^] [^2^]\n",
      "- France initiated peace talks with Britain in March 1762, hoping to isolate Prussia and secure favourable terms[^1^] [^3^]\n",
      "- Britain agreed to negotiate, but also supported Prussia with subsidies and diplomacy[^1^] [^2^]\n",
      "- The death of Empress Elizabeth of Russia in January 1762 changed the balance of power, as her successor Peter III withdrew from the war and allied with Prussia[^1^] [^2^]\n",
      "- The Treaty of Paris was signed on 10 February 1763 between Britain, France, Spain and Portugal, ending the war overseas and reshaping the colonial map[^1^] [^2^] [^4^]\n",
      "    - France ceded most of its North American, West Indian and Indian territories to Britain\n",
      "    - Spain ceded Florida to Britain and received Louisiana from France\n",
      "    - Portugal retained its South American colonies\n",
      "- The Treaty of Hubertusburg was signed on 15 February 1763 between Prussia, Austria and Saxony, ending the war in Europe and restoring the status quo ante bellum[^1^] [^2^]\n",
      "    - Prussia kept Silesia and emerged as a major power\n",
      "    - Austria recognized Prussia's sovereignty and abandoned its claims\n",
      "    - Saxony was restored to its elector\n",
      "\n",
      "[^1^]: https://www.britannica.com/event/Seven-Years-War/The-treaties-of-peace\n",
      "[^2^]: https://en.wikipedia.org/wiki/Seven_Years%27_War\n",
      "[^3^]: https://history.state.gov/milestones/1750-1775/treaty-of-paris\n",
      "[^4^]: https://en.wikipedia.org/wiki/Treaty_of_Paris_%281763%29\n",
      "gpt-4 tokens: 2092, maximum 4096 - 1000\n",
      "BingChat: Using: gpt-4\n",
      "BingChat: Sending prompt\n",
      "## North America: The French and Indian War and its causes\n",
      "- The French and Indian War (1754-1763) was the American phase of a worldwide nine years' war (1756-1763) fought between France and Great Britain[^2^]\n",
      "- The war began over the specific issue of whether the upper Ohio River valley was a part of the British Empire or the French Empire[^2^] [^3^]\n",
      "    - The British claimed the land based on the explorations of John Cabot and the royal charters granted to the Virginia Company and the Plymouth Company[^2^]\n",
      "    - The French claimed the land based on the explorations of René-Robert Cavelier, sieur de la Salle, and the establishment of forts and trading posts along the Mississippi River and its tributaries[^2^]\n",
      "- The war was also caused by the competition for resources, trade and influence in North America between the two colonial powers[^1^] [^3^]\n",
      "    - The British colonists were running out of room to expand along the eastern seaboard and wanted to move westward into the fertile Ohio valley[^1^] [^3^]\n",
      "    - The French colonists wanted to protect their fur trade and alliances with the Native Americans, who also resisted British encroachment[^1^] [^3^]\n",
      "- The war was influenced by the diplomatic revolution of 1756, when France and Austria formed an alliance against their traditional rivals, Britain and Prussia, sparking the Seven Years' War in Europe[^2^]\n",
      "\n",
      "[^1^]: https://thehistoryace.com/the-3-main-causes-of-the-french-and-indian-war/\n",
      "[^2^]: https://www.britannica.com/event/French-and-Indian-War\n",
      "[^3^]: https://www.battlefields.org/learn/articles/french-and-indian-war-1754-1763-causes-and-outbreak\n",
      "gpt-4 tokens: 2024, maximum 4096 - 1000\n",
      "BingChat: Using: gpt-4\n",
      "BingChat: Sending prompt\n",
      "## North America: The British conquest of New France\n",
      "- The British campaign began in 1758 with the capture of Louisbourg, a strategic French fortress on Cape Breton Island[^1^] [^2^]\n",
      "- The British then launched a three-pronged attack on Quebec City, the capital of New France, in 1759[^1^] [^2^]\n",
      "    - General James Wolfe led a force of 9,000 men up the St. Lawrence River and landed near Quebec\n",
      "    - General Jeffery Amherst advanced from Lake Champlain with 11,000 men\n",
      "    - Admiral Charles Saunders blockaded the river and cut off French supplies and reinforcements\n",
      "- The British defeated the French army under General Louis-Joseph de Montcalm at the Battle of the Plains of Abraham on 13 September 1759, a decisive victory that led to the British occupation of Quebec[^1^] [^2^] [^3^]\n",
      "- The French attempted to retake Quebec in 1760, but were repulsed by the British at the Battle of Sainte-Foy and the naval Battle of Restigouche[^1^] [^2^]\n",
      "- Montreal, the last remaining French stronghold, surrendered to the British on 8 September 1760, ending the French resistance in Canada[^1^] [^2^]\n",
      "- The Treaty of Paris (1763) formally ceded New France to Britain, except for the islands of Saint-Pierre and Miquelon[^1^] [^2^] [^4^]\n",
      "\n",
      "[^1^]: https://en.wikipedia.org/wiki/Conquest_of_New_France\n",
      "[^2^]: https://www.thecanadianencyclopedia.ca/en/article/conquest\n",
      "[^3^]: https://www.wikiwand.com/en/Battle_of_the_Plains_of_Abraham\n",
      "[^4^]: https://en.wikipedia.org/wiki/Treaty_of_Paris_%281763%29\n",
      "gpt-4 tokens: 2083, maximum 4096 - 1000\n",
      "BingChat: Using: gpt-4\n",
      "BingChat: Sending prompt\n",
      "## North America: The Native American resistance and the Pontiac’s War\n",
      "- After the British victory in the French and Indian War, many Native American nations were dissatisfied with British policies and sought to drive them out of their lands[^1^] [^2^]\n",
      "- A loose confederation of tribes, led by the Odawa chief Pontiac, attacked several British forts and settlements in 1763, killing or capturing hundreds of colonists[^1^] [^2^] [^3^]\n",
      "    - The most famous siege was at Fort Pitt (now Pittsburgh), where the British officers attempted to infect the Natives with smallpox-infected blankets[^1^] [^2^] [^4^]\n",
      "    - The war also involved other Native leaders, such as Guyasuta of the Seneca/Mingo and Charlot Kaské of the Illinois[^1^] [^2^]\n",
      "- The British responded with military expeditions and peace negotiations in 1764, which resulted in a stalemate and a gradual cessation of hostilities[^1^] [^2^] [^3^]\n",
      "- The war had significant consequences for both sides:\n",
      "    - The Natives failed to expel the British, but compelled them to change their policies and respect their sovereignty[^1^] [^2^] [^3^]\n",
      "    - The British issued the Royal Proclamation of 1763, which created a boundary between colonists and Natives, but also angered many colonists who wanted to expand westward[^1^] [^2^] [^5^]\n",
      "    - The war also increased the racial divide and violence between colonists and Natives, which would continue in the American Revolution and beyond[^1^] [^2^] \n",
      "\n",
      "[^1^]: https://en.wikipedia.org/wiki/Pontiac's_War\n",
      "[^2^]: https://www.britannica.com/event/Pontiacs-War\n",
      "[^3^]: https://www.thecanadianencyclopedia.ca/en/article/pontiacs-war-feature\n",
      "[^4^]: https://history.state.gov/milestones/1750-1775/pontiac-rebellion\n",
      "[^5^]: https://www.battlefields.org/learn/articles/royal-proclamation-1763\n",
      ": https://www.history.com/topics/native-american-history/pontiacs-rebellion\n",
      "gpt-4 tokens: 2047, maximum 4096 - 1000\n",
      "BingChat: Using: gpt-4\n",
      "BingChat: Sending prompt\n",
      "## North America: The Proclamation of 1763 and its consequences\n",
      "- The Proclamation of 1763 was issued by King George III on 7 October 1763, following the Treaty of Paris that ended the French and Indian War[^1^] [^2^]\n",
      "- The Proclamation forbade all settlements west of a line drawn along the Appalachian Mountains, which was designated as an Indian Reserve[^1^] [^2^]\n",
      "    - The Proclamation aimed to conciliate the Native Americans by preventing further encroachment of settlers on their lands[^1^] [^2^]\n",
      "    - The Proclamation also organized new British territories in America: Quebec, East and West Florida, and Grenada[^1^] [^2^]\n",
      "- The Proclamation was met with resentment and resistance by the colonists, who wanted to expand westward into the fertile Ohio valley[^2^] [^3^]\n",
      "    - The Proclamation was seen as a limitation of their rights and freedoms, and a sign of British tyranny[^2^] [^3^]\n",
      "    - The Proclamation was largely ignored or violated by settlers, land speculators, traders and colonial governments[^2^] [^3^]\n",
      "- The Proclamation had significant consequences for the future of North America[^1^] [^2^] [^3^]\n",
      "    - The Proclamation formalized the concept of Native American land titles, which became a basis for their legal claims in the United States and Canada[^1^] [^2^]\n",
      "    - The Proclamation contributed to the growing discontent and distrust between Britain and its colonies, which eventually led to the American Revolution[^2^] [^3^]\n",
      "\n",
      "[^1^]: https://en.wikipedia.org/wiki/Royal_Proclamation_of_1763\n",
      "[^2^]: https://www.britannica.com/event/Proclamation-of-1763\n",
      "[^3^]: https://www.history.com/topics/native-american-history/1763-proclamation-of\n",
      "gpt-4 tokens: 2144, maximum 4096 - 1000\n",
      "BingChat: Using: gpt-4\n",
      "BingChat: Sending prompt\n",
      "## Asia-Pacific: The Carnatic Wars and the Anglo-French rivalry in India\n",
      "- The Carnatic Wars were a series of military conflicts between 1744 and 1763 in the coastal Carnatic region, a dependency of Hyderabad State[^1^] [^2^]\n",
      "- The wars involved the British and the French East India Companies, who supported rival claimants to the throne of the Nawab of Carnatic and the Nizam of Hyderabad[^1^] [^2^]\n",
      "- The French governor Joseph François Dupleix sought to expand French influence in India by backing Chanda Sahib and Muzaffar Jung against Muhammad Ali and Nasir Jung, who were allied with the British[^1^] [^2^] [^3^]\n",
      "- The first Carnatic War (1744-48) was triggered by the War of the Austrian Succession in Europe and ended with the Treaty of Aix-la-Chapelle, which restored the status quo ante bellum[^1^] [^2^]\n",
      "- The second Carnatic War (1749-54) saw the rise of Robert Clive, who captured Arcot and defeated Chanda Sahib at Arni, while the French officer Bussy-Castelnau controlled Hyderabad for seven years[^1^] [^2^] [^3^]\n",
      "    - The war ended with the Treaty of Pondicherry, which recognized Muhammad Ali as the Nawab of Carnatic and restored French influence in Hyderabad[^1^] [^2^]\n",
      "- The third Carnatic War (1756-63) was part of the Seven Years' War in Europe and resulted in the British victory over the French in India[^1^] [^2^] [^3^]\n",
      "    - The British defeated the French at Wandiwash (1760) and captured Pondicherry (1761), ending French ambitions in India[^1^] [^2^]\n",
      "    - The war was concluded by the Treaty of Paris (1763), which ceded most of French India to Britain, except for a few trading posts[^1^] [^2^]\n",
      "\n",
      "[^1^]: https://en.wikipedia.org/wiki/Carnatic_Wars\n",
      "[^2^]: https://www.britannica.com/event/Carnatic-Wars\n",
      "[^3^]: https://military-history.fandom.com/wiki/Carnatic_Wars\n",
      "gpt-4 tokens: 2154, maximum 4096 - 1000\n",
      "BingChat: Using: gpt-4\n",
      "BingChat: Sending prompt\n",
      "## Asia-Pacific: The British victory at Plassey and the consolidation of the East India Company\n",
      "- The Battle of Plassey was fought on 23 June 1757 between the British East India Company and the Nawab of Bengal and his French allies[^1^] [^2^] [^3^]\n",
      "- The battle was a result of the Nawab's attack on British trading posts, including Calcutta, where he allegedly imprisoned and killed British captives in the \"Black Hole of Calcutta\"[^1^] [^2^] [^4^]\n",
      "- The British, led by Robert Clive, bribed the Nawab's commander-in-chief, Mir Jafar, and other generals to defect to their side[^1^] [^2^] [^3^]\n",
      "- The British had a much smaller force of 3,000 men and 8 cannon, while the Nawab had 50,000 men and 53 cannon[^1^] [^2^]\n",
      "    - However, most of the Nawab's army did not fight due to Mir Jafar's treachery[^1^] [^2^] [^3^]\n",
      "    - The British artillery inflicted heavy casualties on the Nawab's cavalry and forced them to retreat[^1^] [^2^]\n",
      "    - The Nawab fled the battlefield and was later captured and executed by Mir Jafar[^1^] [^2^] [^3^]\n",
      "- The battle was a decisive victory for the British, who installed Mir Jafar as the new Nawab of Bengal[^1^] [^2^] [^3^]\n",
      "    - Mir Jafar paid a large indemnity to the British and granted them trading privileges and territorial concessions[^1^] [^2^] [^3^]\n",
      "    - The British also gained control of the French settlements in Bengal and eliminated their rivals in India[^1^] [^2^] [^3^]\n",
      "    - The battle marked the beginning of the British political and economic domination of India[^1^] [^2^] [^3^]\n",
      "\n",
      "[^1^]: https://en.wikipedia.org/wiki/Battle_of_Plassey\n",
      "[^2^]: https://www.britannica.com/event/Battle-of-Plassey\n",
      "[^3^]: https://www.worldhistory.org/article/2107/battle-of-plassey/\n",
      "[^4^]: https://www.history.com/topics/india/black-hole-of-calcutta\n",
      "gpt-4 tokens: 2152, maximum 4096 - 1000\n",
      "BingChat: Using: gpt-4\n",
      "BingChat: Sending prompt\n"
     ]
    }
   ],
   "source": [
    "for i in range(1, len(topics)):\n",
    "    gen = [slides[0][\"text\"]]\n",
    "    for j in range(max(1, i-3), i-1):\n",
    "        gen.append(slides[j][\"text\"])\n",
    "    gen = \"\\n\\n\".join(gen)\n",
    "    prompt = prompts[\"other_slide\"].format(outline=outline, topOfSlide=topics[i], createdSlides=gen, **options)\n",
    "    slides.append(await bingChat.answerPropt(prompt, 1000, newConv=True))\n",
    "    print(slides[i][\"text\"])\n"
   ]
  },
  {
   "cell_type": "code",
   "execution_count": null,
   "metadata": {},
   "outputs": [],
   "source": [
    "import deepl\n",
    "\n",
    "with open(\".DeepLtoken\") as f:\n",
    "    auth_key = f.read()\n",
    "translator = deepl.Translator(auth_key)"
   ]
  },
  {
   "cell_type": "code",
   "execution_count": null,
   "metadata": {},
   "outputs": [],
   "source": [
    "import re\n",
    "\n",
    "def formatSlide(text):\n",
    "    lines = text.splitlines()\n",
    "    ret = []\n",
    "    if lines[0][0] != \"#\":\n",
    "        del lines[0]\n",
    "    for line in lines:\n",
    "        if (line != \"\") and (line[0] != \"[\"):\n",
    "            line = re.sub(\"\\*\\*\", \"\", line)\n",
    "            line = re.sub(\" ?\\[.*?\\] ?\", \"\", line)\n",
    "            ret.append(line)\n",
    "    ret = \"\\n\".join(ret)\n",
    "    return ret\n",
    "\n",
    "def transate(text, lang=\"CS\"):\n",
    "    if text == \"\":\n",
    "        return \"\"\n",
    "    return translator.translate_text(text, target_lang=lang).text"
   ]
  },
  {
   "cell_type": "code",
   "execution_count": null,
   "metadata": {},
   "outputs": [],
   "source": [
    "\n",
    "nameOfPres = transate(options[\"saveName\"])"
   ]
  },
  {
   "cell_type": "code",
   "execution_count": null,
   "metadata": {},
   "outputs": [],
   "source": [
    "pres_list = list(map(lambda x: transate(formatSlide(x[\"text\"])), slides))\n",
    "pres = \"\\n\\n\".join(pres_list)\n",
    "\n",
    "with open(os.path.join(options[\"folder\"], nameOfPres + \".md\"), \"w\", encoding=\"UTF-8\") as f:\n",
    "    f.write(pres)"
   ]
  },
  {
   "cell_type": "code",
   "execution_count": null,
   "metadata": {},
   "outputs": [],
   "source": [
    "from pptx.enum.lang import MSO_LANGUAGE_ID\n",
    "from pptx.util import Pt\n",
    "\n",
    "def addSlide(power, text, language, font_size=20):\n",
    "    lines = text.splitlines()\n",
    "    if len(lines) == 0:\n",
    "        return\n",
    "\n",
    "    lang_id = getattr(MSO_LANGUAGE_ID, language)\n",
    "\n",
    "    lay = power.slide_layouts[1]\n",
    "    slide = power.slides.add_slide(lay)\n",
    "\n",
    "    slide.shapes.title.text = re.sub(\"^## +\", \"\", lines[0])\n",
    "    slide.shapes.title.text_frame.paragraphs[0].font.language_id = lang_id\n",
    "\n",
    "    text_frame = slide.shapes.placeholders[1].text_frame\n",
    "\n",
    "    first = True\n",
    "    for line in lines[1:]:\n",
    "        if first:\n",
    "            p = text_frame.paragraphs[0]\n",
    "            first = False\n",
    "        else:\n",
    "            p = text_frame.add_paragraph()\n",
    "        p.text = re.sub(\"^ *- +\", \"\", line)\n",
    "        p.font.language_id = lang_id\n",
    "        p.font.size = Pt(font_size)\n",
    "        if line[0] == \"-\":\n",
    "            p.level = 0\n",
    "        else:\n",
    "            p.level = 1\n",
    "\n",
    "    \n",
    "\n",
    "power = Presentation(\"template.pptx\")\n",
    "power.core_properties.language = options[\"lang\"]\n",
    "\n",
    "lay = power.slide_layouts[0]\n",
    "first = power.slides.add_slide(lay)\n",
    "first.shapes.title.text = transate(options[\"top\"])\n",
    "first.placeholders[1].text= options[\"subtitle\"]\n",
    "\n",
    "for slide in pres_list:\n",
    "    addSlide(power, slide, options[\"lang\"])\n",
    "power.save(os.path.join(options[\"folder\"], nameOfPres + \".pptx\"))"
   ]
  },
  {
   "cell_type": "code",
   "execution_count": null,
   "metadata": {},
   "outputs": [],
   "source": [
    "with open(os.path.join(options[\"folder\"], nameOfPres + \" sources.txt\"), \"w\", encoding=\"UTF-8\") as f:\n",
    "    for i in range(len(slides)):\n",
    "        if pres_list[i].rstrip() == \"\":\n",
    "            continue\n",
    "        f.write(pres_list[i].splitlines()[0] + \"\\n\")\n",
    "        for source in slides[i][\"sources\"]:\n",
    "            f.write(source + \"\\n\")\n",
    "        f.write(\"\\n\")"
   ]
  }
 ],
 "metadata": {
  "kernelspec": {
   "display_name": "presai-venv",
   "language": "python",
   "name": "python3"
  },
  "language_info": {
   "codemirror_mode": {
    "name": "ipython",
    "version": 3
   },
   "file_extension": ".py",
   "mimetype": "text/x-python",
   "name": "python",
   "nbconvert_exporter": "python",
   "pygments_lexer": "ipython3",
   "version": "3.11.3"
  },
  "orig_nbformat": 4,
  "vscode": {
   "interpreter": {
    "hash": "01ea6066f0fee03b2dd98743dfef3faeaf5a615c02b1170b06cf5165057b5e5f"
   }
  }
 },
 "nbformat": 4,
 "nbformat_minor": 2
}
